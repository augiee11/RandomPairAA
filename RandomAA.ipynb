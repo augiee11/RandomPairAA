{
 "cells": [
  {
   "cell_type": "code",
   "execution_count": 5,
   "metadata": {},
   "outputs": [],
   "source": [
    "import random #imports random module"
   ]
  },
  {
   "cell_type": "code",
   "execution_count": 6,
   "metadata": {},
   "outputs": [],
   "source": [
    "'''Amino Acid Groups by chemical properties'''\n",
    "group_a = [\"Gly\",\"Ala\",\"Val\",\"Pro\",\"Leu\",\"lle\", \"Met\"]\n",
    "group_b = [\"Lys\",\"Arg\"]\n",
    "group_c = [\"Asp\", \"Glu\"]\n",
    "group_d = [\"Ser\", \"Thr\", \"Asn\", \"Gln\", \"Cys\"]\n",
    "group_e = [\"Trp\", \"Phe\", \"Tyr\", \"His\"]"
   ]
  },
  {
   "cell_type": "code",
   "execution_count": 7,
   "metadata": {
    "scrolled": true
   },
   "outputs": [
    {
     "name": "stdout",
     "output_type": "stream",
     "text": [
      "['Met,Lys', 'Arg,Gly', 'Ser,lle', 'Trp,Lys', 'Arg,Phe', 'Arg,Asp', 'Gln,His', 'Phe,Ala', 'Tyr,Arg', 'Glu,Arg', 'Glu,His', 'Lys,Val', 'Arg,Ser', 'Arg,Glu', 'Ser,Arg', 'Asp,Arg', 'Thr,lle', 'Arg,Asn', 'Gly,Lys', 'Phe,Leu', 'His,Asn', 'Leu,Ser', 'Asp,Met', 'Phe,Arg', 'Tyr,Lys', 'Ala,Trp', 'Asn,His', 'Phe,Asn', 'Ala,Ser', 'Ala,Lys', 'Lys,Glu', 'Asp,Phe', 'Gly,Tyr', 'Lys,Asn', 'Pro,Trp', 'Thr,Asp', 'Lys,Tyr', 'Glu,Ala', 'Arg,Tyr', 'Lys,Gln', 'Lys,Met', 'Cys,Arg', 'Lys,Gly', 'His,Lys', 'Lys,Pro', 'His,Thr', 'Asp,Pro', 'Cys,Pro', 'Ser,Ala', 'Val,Asp', 'Tyr,Gln', 'Asp,His', 'Asp,Lys', 'Asp,Asn', 'Asp,Thr', 'Ser,Pro', 'Phe,Cys', 'Arg,Pro', 'Arg,His', 'Cys,Tyr', 'Ser,Asp', 'Leu,Lys', 'Phe,Met', 'Cys,Gly', 'Lys,lle', 'Lys,His', 'Gln,Arg', 'Met,Glu', 'Ala,Asn', 'Trp,Glu', 'lle,Arg', 'Asp,Ala', 'Glu,Trp', 'Met,Trp', 'Trp,Cys', 'Ser,Lys', 'Pro,Lys', 'Gly,Arg', 'Asp,Gln', 'Tyr,Asp', 'Asp,lle', 'Arg,Gln', 'Glu,Val', 'Asn,Ala', 'Glu,Thr', 'Asn,Asp', 'Phe,lle', 'Phe,Asp', 'Val,Arg', 'Glu,Lys', 'Asp,Leu', 'lle,His', 'Thr,Trp', 'Leu,Asp', 'Leu,Gln', 'Ala,Asp', 'Lys,Ala', 'Met,Asp', 'Glu,Pro', 'Glu,Phe']\n"
     ]
    }
   ],
   "source": [
    "group_pool = [group_a, group_b, group_c, group_d, group_e]\n",
    "pairings = []\n",
    "number_of_pairings = 100\n",
    "while len(pairings) < number_of_pairings:\n",
    "    groups_indx = random.sample(range(0,5),2)\n",
    "    size_1 = len(group_pool[groups_indx[0]]) - 1\n",
    "    size_2 = len(group_pool[groups_indx[1]]) - 1\n",
    "    amino1_indx = random.randint(0,size_1)\n",
    "    amino2_indx = random.randint(0,size_2)\n",
    "    \n",
    "    amino_1 = group_pool[groups_indx[0]][amino1_indx]\n",
    "    amino_2 = group_pool[groups_indx[1]][amino2_indx]\n",
    "    new_pair = amino_1 + \",\" + amino_2\n",
    "    if new_pair not in pairings:\n",
    "        pairings.append(new_pair)\n",
    "\n",
    "print(pairings)\n"
   ]
  },
  {
   "cell_type": "code",
   "execution_count": null,
   "metadata": {},
   "outputs": [],
   "source": []
  }
 ],
 "metadata": {
  "kernelspec": {
   "display_name": "Python 3",
   "language": "python",
   "name": "python3"
  },
  "language_info": {
   "codemirror_mode": {
    "name": "ipython",
    "version": 3
   },
   "file_extension": ".py",
   "mimetype": "text/x-python",
   "name": "python",
   "nbconvert_exporter": "python",
   "pygments_lexer": "ipython3",
   "version": "3.7.3"
  }
 },
 "nbformat": 4,
 "nbformat_minor": 2
}
